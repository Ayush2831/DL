{
 "cells": [
  {
   "cell_type": "markdown",
   "id": "22ae853a-d0bd-4151-8183-4d18f3ce1387",
   "metadata": {},
   "source": [
    "2: Implementing Feedforward neural networks with Keras and TensorFlow\n",
    "</br>\n",
    "a. Import the necessary packages\n",
    "</br>\n",
    "b. Load the training and testing data (MNIST/CIFAR10)\n",
    "</br>\n",
    "c. Define the network architecture using Keras\n",
    "</br>\n",
    "d. Train the model using SGD\n",
    "</br>\n",
    "e. Evaluate the network\n",
    "</br>\n",
    "f. Plot the training loss and accuracy\n",
    "</br>\n",
    "\n",
    "**datasets: MNIST, CIFER10**"
   ]
  },
  {
   "cell_type": "code",
   "execution_count": 1,
   "id": "00fee205-58d5-480a-bb73-60eac03714c9",
   "metadata": {},
   "outputs": [
    {
     "name": "stderr",
     "output_type": "stream",
     "text": [
      "2023-11-01 12:47:57.367642: I tensorflow/core/platform/cpu_feature_guard.cc:182] This TensorFlow binary is optimized to use available CPU instructions in performance-critical operations.\n",
      "To enable the following instructions: AVX2 FMA, in other operations, rebuild TensorFlow with the appropriate compiler flags.\n"
     ]
    }
   ],
   "source": [
    "import tensorflow as tf\n",
    "from tensorflow import keras\n",
    "import matplotlib.pyplot as plt\n",
    "import numpy as np"
   ]
  },
  {
   "cell_type": "markdown",
   "id": "4ba52b9d-c760-47e2-8510-8f19b274c1c2",
   "metadata": {},
   "source": [
    "#### b. Load the training and testing data (MNIST/CIFAR10)"
   ]
  },
  {
   "cell_type": "code",
   "execution_count": 2,
   "id": "35c75d30-1fe6-4f54-90e2-d0d72d788328",
   "metadata": {},
   "outputs": [],
   "source": [
    "# loading data with internet\n",
    "# cifar10 = keras.datasets.cifar10\n",
    "# (x_train, y_train), (x_test, y_test) = cifar10.load_data()"
   ]
  },
  {
   "cell_type": "code",
   "execution_count": 3,
   "id": "abc60535-1b3d-4413-a257-a6cd2c241d3b",
   "metadata": {},
   "outputs": [],
   "source": [
    "# loading data from local\n",
    "import pickle\n",
    "def load_cifar_10_data(file):\n",
    "    with open(file, 'rb') as fo:\n",
    "        data = pickle.load(fo, encoding='bytes')\n",
    "    return data[b'data'], data[b'labels']\n",
    "x_train = []\n",
    "y_train = []\n",
    "for i in range(1,6):\n",
    "    x_batch, y_batch = load_cifar_10_data(\"cifar-10-batches-py/data_batch_\" + str(i))\n",
    "    x_train.append(x_batch)\n",
    "    y_train += y_batch\n",
    "x_train = np.vstack(x_train)\n",
    "# x_train, y_train = load_cifar_10_data(\"cifar-10-batches-py/data_batch_1\")\n",
    "x_test, y_test = load_cifar_10_data(\"cifar-10-batches-py/test_batch\")\n",
    "x_train = x_train.reshape(-1, 3, 32, 32).transpose(0, 2, 3, 1).astype(float)\n",
    "x_test = x_test.reshape(-1, 3, 32, 32).transpose(0, 2, 3, 1).astype(float)"
   ]
  },
  {
   "cell_type": "code",
   "execution_count": 4,
   "id": "5250c12e-51ea-4c6f-89a5-4dfa30acdad1",
   "metadata": {},
   "outputs": [],
   "source": [
    "x_train = x_train / 255\n",
    "x_test = x_test / 255\n",
    "y_train = keras.utils.to_categorical(y_train, num_classes=10)\n",
    "y_test = keras.utils.to_categorical(y_test, num_classes=10)"
   ]
  },
  {
   "cell_type": "code",
   "execution_count": 5,
   "id": "5b804020-7674-4852-aa24-cf298e2c97a7",
   "metadata": {},
   "outputs": [
    {
     "name": "stderr",
     "output_type": "stream",
     "text": [
      "2023-11-01 12:48:05.714340: W tensorflow/tsl/framework/cpu_allocator_impl.cc:83] Allocation of 614400000 exceeds 10% of free system memory.\n"
     ]
    },
    {
     "name": "stdout",
     "output_type": "stream",
     "text": [
      "Epoch 1/10\n",
      "1563/1563 [==============================] - 24s 15ms/step - loss: 1.5537 - accuracy: 0.4322 - val_loss: 1.3631 - val_accuracy: 0.4971\n",
      "Epoch 2/10\n",
      "1563/1563 [==============================] - 20s 13ms/step - loss: 1.1804 - accuracy: 0.5796 - val_loss: 1.1124 - val_accuracy: 0.5998\n",
      "Epoch 3/10\n",
      "1563/1563 [==============================] - 20s 13ms/step - loss: 1.0322 - accuracy: 0.6368 - val_loss: 1.0578 - val_accuracy: 0.6287\n",
      "Epoch 4/10\n",
      "1563/1563 [==============================] - 19s 12ms/step - loss: 0.9337 - accuracy: 0.6717 - val_loss: 0.9353 - val_accuracy: 0.6750\n",
      "Epoch 5/10\n",
      "1563/1563 [==============================] - 22s 14ms/step - loss: 0.8601 - accuracy: 0.6979 - val_loss: 0.9827 - val_accuracy: 0.6579\n",
      "Epoch 6/10\n",
      "1563/1563 [==============================] - 22s 14ms/step - loss: 0.7980 - accuracy: 0.7210 - val_loss: 0.9016 - val_accuracy: 0.6910\n",
      "Epoch 7/10\n",
      "1563/1563 [==============================] - 20s 13ms/step - loss: 0.7511 - accuracy: 0.7369 - val_loss: 0.8610 - val_accuracy: 0.7049\n",
      "Epoch 8/10\n",
      "1563/1563 [==============================] - 21s 14ms/step - loss: 0.7077 - accuracy: 0.7540 - val_loss: 0.8598 - val_accuracy: 0.7043\n",
      "Epoch 9/10\n",
      "1563/1563 [==============================] - 22s 14ms/step - loss: 0.6661 - accuracy: 0.7635 - val_loss: 0.9609 - val_accuracy: 0.6846\n",
      "Epoch 10/10\n",
      "1563/1563 [==============================] - 20s 13ms/step - loss: 0.6326 - accuracy: 0.7760 - val_loss: 0.8627 - val_accuracy: 0.7103\n"
     ]
    },
    {
     "data": {
      "text/plain": [
       "<keras.src.callbacks.History at 0x7f2bf315b890>"
      ]
     },
     "execution_count": 5,
     "metadata": {},
     "output_type": "execute_result"
    }
   ],
   "source": [
    "# Build the model\n",
    "model = keras.Sequential([\n",
    "   keras.layers.Conv2D(32, (3, 3), activation='relu', input_shape=(32, 32, 3)),\n",
    "    keras.layers.MaxPooling2D((2, 2)),\n",
    "    keras.layers.Conv2D(64, (3, 3), activation='relu'),\n",
    "    keras.layers.MaxPooling2D((2, 2)),\n",
    "    keras.layers.Conv2D(64, (3, 3), activation='relu'),\n",
    "    keras.layers.Flatten(),\n",
    "    keras.layers.Dense(64, activation='relu'),\n",
    "    keras.layers.Dense(10, activation='softmax')\n",
    "])\n",
    "\n",
    "# Compile the model\n",
    "model.compile(optimizer='adam', loss='categorical_crossentropy', metrics=['accuracy'])\n",
    "\n",
    "# Train the model\n",
    "model.fit(x_train, y_train, epochs=10, batch_size=32, validation_data=(x_test, y_test))"
   ]
  },
  {
   "cell_type": "code",
   "execution_count": 6,
   "id": "a7328685-6685-4e7a-a9eb-e65badf4504c",
   "metadata": {},
   "outputs": [
    {
     "name": "stdout",
     "output_type": "stream",
     "text": [
      "313/313 [==============================] - 1s 4ms/step - loss: 0.8627 - accuracy: 0.7103\n",
      "Test accuracy: 0.7103000283241272\n"
     ]
    }
   ],
   "source": [
    "test_loss, test_acc = model.evaluate(x_test, y_test)\n",
    "print(f'Test accuracy: {test_acc}')"
   ]
  },
  {
   "cell_type": "code",
   "execution_count": null,
   "id": "a7e74f81-2711-4aba-9c7d-4bde76fa1656",
   "metadata": {},
   "outputs": [],
   "source": []
  }
 ],
 "metadata": {
  "kernelspec": {
   "display_name": "Python 3 (ipykernel)",
   "language": "python",
   "name": "python3"
  },
  "language_info": {
   "codemirror_mode": {
    "name": "ipython",
    "version": 3
   },
   "file_extension": ".py",
   "mimetype": "text/x-python",
   "name": "python",
   "nbconvert_exporter": "python",
   "pygments_lexer": "ipython3",
   "version": "3.11.0rc1"
  }
 },
 "nbformat": 4,
 "nbformat_minor": 5
}
