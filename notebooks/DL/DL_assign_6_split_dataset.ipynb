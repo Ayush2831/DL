{
 "cells": [
  {
   "cell_type": "code",
   "execution_count": 1,
   "id": "a2ddf559-4c90-4b61-a204-9489ce9849b6",
   "metadata": {},
   "outputs": [],
   "source": [
    "import os\n",
    "import shutil\n",
    "import random\n",
    "\n",
    "# Define the root directory of your dataset and the output directories\n",
    "dataset_root = \"101_ObjectCategories\"\n",
    "output_root = \"output_folder\"\n",
    "\n",
    "# Define the split ratios (train, validation, test)\n",
    "train_ratio = 0.6\n",
    "val_ratio = 0.2\n",
    "test_ratio = 0.2\n",
    "\n",
    "# Create output directories\n",
    "os.makedirs(output_root, exist_ok=True)\n",
    "os.makedirs(os.path.join(output_root, 'train'), exist_ok=True)\n",
    "os.makedirs(os.path.join(output_root, 'val'), exist_ok=True)\n",
    "os.makedirs(os.path.join(output_root, 'test'), exist_ok=True)\n",
    "\n",
    "# Loop through the categories in your dataset\n",
    "for category in os.listdir(dataset_root):\n",
    "    category_dir = os.path.join(dataset_root, category)\n",
    "    \n",
    "    # Create subdirectories for this category in train, val, and test\n",
    "    os.makedirs(os.path.join(output_root, 'train', category), exist_ok=True)\n",
    "    os.makedirs(os.path.join(output_root, 'val', category), exist_ok=True)\n",
    "    os.makedirs(os.path.join(output_root, 'test', category), exist_ok=True)\n",
    "\n",
    "    # List the files in this category\n",
    "    files = os.listdir(category_dir)\n",
    "    random.shuffle(files)  # Shuffle the files\n",
    "\n",
    "    # Determine the split points\n",
    "    num_files = len(files)\n",
    "    train_split = int(train_ratio * num_files)\n",
    "    val_split = int((train_ratio + val_ratio) * num_files)\n",
    "\n",
    "    # Copy files to the appropriate split\n",
    "    for i, file in enumerate(files):\n",
    "        src_path = os.path.join(category_dir, file)\n",
    "        if i < train_split:\n",
    "            dest_path = os.path.join(output_root, 'train', category, file)\n",
    "        elif i < val_split:\n",
    "            dest_path = os.path.join(output_root, 'val', category, file)\n",
    "        else:\n",
    "            dest_path = os.path.join(output_root, 'test', category, file)\n",
    "        shutil.copy(src_path, dest_path)"
   ]
  },
  {
   "cell_type": "code",
   "execution_count": null,
   "id": "3195ff2b-3ddd-4cf2-8d42-ee67fa6db730",
   "metadata": {},
   "outputs": [],
   "source": []
  }
 ],
 "metadata": {
  "kernelspec": {
   "display_name": "Python 3 (ipykernel)",
   "language": "python",
   "name": "python3"
  },
  "language_info": {
   "codemirror_mode": {
    "name": "ipython",
    "version": 3
   },
   "file_extension": ".py",
   "mimetype": "text/x-python",
   "name": "python",
   "nbconvert_exporter": "python",
   "pygments_lexer": "ipython3",
   "version": "3.11.0rc1"
  }
 },
 "nbformat": 4,
 "nbformat_minor": 5
}
